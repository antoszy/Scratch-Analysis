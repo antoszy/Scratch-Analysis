{
 "cells": [
  {
   "cell_type": "markdown",
   "id": "43b31893",
   "metadata": {
    "pycharm": {
     "name": "#%% md\n"
    }
   },
   "source": [
    "## Imports and functions"
   ]
  },
  {
   "cell_type": "code",
   "execution_count": 1,
   "id": "3c15a5ec",
   "metadata": {
    "pycharm": {
     "name": "#%%\n"
    }
   },
   "outputs": [],
   "source": [
    "%matplotlib inline\n",
    "import matplotlib.pyplot as pyplot\n",
    "import utils \n",
    "import Pass\n",
    "import numpy as np\n",
    "import glob\n",
    "from Scratch import Scratch\n",
    "from scipy.interpolate import interp1d"
   ]
  },
  {
   "cell_type": "code",
   "execution_count": 2,
   "id": "f0c6bbeb",
   "metadata": {
    "pycharm": {
     "name": "#%%\n"
    }
   },
   "outputs": [],
   "source": [
    "fileList = sorted(glob.glob('data/scratch/wyniki/powierzchnia/200*.txt'))\n",
    "sampleList = [utils.read_data(file) for file in fileList]\n",
    "sampleNames = ['Ref', 'A 1%', 'A 2%', 'A 4%', 'A 8%']\n",
    "utils.preprocess_samples(sampleList)\n",
    "\n",
    "fileListR = glob.glob('data/scratch/wyniki/powierzchnia/200_00pc.txt') \\\n",
    "    +sorted(glob.glob('data/scratch/wyniki/powierzchnia/R7200*.txt')) \\\n",
    "#   +sorted(glob.glob('data/scratch/wyniki/powierzchnia/200*.txt'))\n",
    "del fileListR[1] # Remove reference from hydrophobic run\n",
    "sampleListR = [utils.read_data(file) for file in fileListR]\n",
    "sampleNamesR = ['Ref', 'R 1%', 'R 2%', 'R 4%', 'R 8%', 'R 12%', 'R 16%', 'R 20%']\n",
    "to_remove_r = [\n",
    "    [0],\n",
    "    [0, 5],\n",
    "    [0, 5],\n",
    "    [0, 2, 5],\n",
    "    [0, 8],\n",
    "    [0, 2],\n",
    "    [0, 4],\n",
    "    [0, 6]\n",
    "]\n",
    "for samp_no, samp_rem in enumerate(to_remove_r):\n",
    "    samp_rem.reverse()\n",
    "    for scratch_no in samp_rem:\n",
    "        del sampleListR[samp_no][scratch_no]\n",
    "utils.preprocess_samples(sampleListR)"
   ]
  },
  {
   "cell_type": "markdown",
   "id": "2281e87f",
   "metadata": {
    "pycharm": {
     "name": "#%% md\n"
    }
   },
   "source": [
    "# Defines"
   ]
  },
  {
   "cell_type": "code",
   "execution_count": 3,
   "id": "29edf535",
   "metadata": {
    "pycharm": {
     "name": "#%%\n"
    }
   },
   "outputs": [],
   "source": [
    "ranges = (\n",
    "    ()\n",
    ")"
   ]
  },
  {
   "cell_type": "markdown",
   "id": "fd4799a1",
   "metadata": {
    "pycharm": {
     "name": "#%% md\n"
    }
   },
   "source": [
    "# Functions"
   ]
  },
  {
   "cell_type": "code",
   "execution_count": 4,
   "id": "1a7997d0",
   "metadata": {
    "pycharm": {
     "name": "#%%\n"
    }
   },
   "outputs": [],
   "source": [
    "#Do sprawdzenia: głębokość, współczynnik tarcia\n",
    "\n"
   ]
  },
  {
   "cell_type": "markdown",
   "id": "02d45ad2",
   "metadata": {
    "pycharm": {
     "name": "#%% md\n"
    }
   },
   "source": [
    "# Computations"
   ]
  },
  {
   "cell_type": "code",
   "execution_count": 5,
   "id": "5cc89638",
   "metadata": {
    "pycharm": {
     "name": "#%%\n"
    }
   },
   "outputs": [
    {
     "ename": "SyntaxError",
     "evalue": "incomplete input (688678306.py, line 1)",
     "output_type": "error",
     "traceback": [
      "\u001B[0;36m  Input \u001B[0;32mIn [5]\u001B[0;36m\u001B[0m\n\u001B[0;31m    for idx, sample in enumerate(sampleList):\u001B[0m\n\u001B[0m                                             ^\u001B[0m\n\u001B[0;31mSyntaxError\u001B[0m\u001B[0;31m:\u001B[0m incomplete input\n"
     ]
    }
   ],
   "source": [
    "\n",
    "\n",
    "for idx, sample in enumerate(sampleList):\n"
   ]
  }
 ],
 "metadata": {
  "kernelspec": {
   "display_name": "Python 3 (ipykernel)",
   "language": "python",
   "name": "python3"
  },
  "language_info": {
   "codemirror_mode": {
    "name": "ipython",
    "version": 3
   },
   "file_extension": ".py",
   "mimetype": "text/x-python",
   "name": "python",
   "nbconvert_exporter": "python",
   "pygments_lexer": "ipython3",
   "version": "3.10.4"
  }
 },
 "nbformat": 4,
 "nbformat_minor": 5
}